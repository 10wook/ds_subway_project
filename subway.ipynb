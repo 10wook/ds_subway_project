{
 "cells": [
  {
   "cell_type": "markdown",
   "metadata": {},
   "source": [
    "# 데이터 분석을 위한 패키지 불러오기"
   ]
  },
  {
   "cell_type": "code",
   "execution_count": 1,
   "metadata": {},
   "outputs": [],
   "source": [
    "import pandas as pd\n",
    "import matplotlib\n",
    "import numpy as np\n",
    "DF = pd.read_csv('./output.csv')\n",
    "print(DF)"
   ]
  }
 ],
 "metadata": {
  "interpreter": {
   "hash": "a972df322b8130548dd1cd3e70c29a5e4681f16b95aba4cfe2a3c74d0186927a"
  },
  "kernelspec": {
   "display_name": "Python 3.10.9 ('2023-DS-B')",
   "language": "python",
   "name": "python3"
  },
  "language_info": {
   "codemirror_mode": {
    "name": "ipython",
    "version": 3
   },
   "file_extension": ".py",
   "mimetype": "text/x-python",
   "name": "python",
   "nbconvert_exporter": "python",
   "pygments_lexer": "ipython3",
   "version": "3.10.9"
  },
  "orig_nbformat": 4
 },
 "nbformat": 4,
 "nbformat_minor": 2
}
